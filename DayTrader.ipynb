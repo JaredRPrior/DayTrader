{
 "cells": [
  {
   "cell_type": "markdown",
   "metadata": {},
   "source": [
    "# Day Trading Notebook\n",
    "<b>Authors: Jared Prior and Miguel Oyler-Castrillo</b>"
   ]
  },
  {
   "cell_type": "code",
   "execution_count": null,
   "metadata": {},
   "outputs": [],
   "source": [
    "import urllib3\n",
    "from bs4 import BeautifulSoup\n",
    "import bs4\n",
    "import requests\n",
    "import re\n",
    "import time\n",
    "import pandas as pd\n",
    "%matplotlib inline\n",
    "import matplotlib.pyplot as plt\n",
    "\n",
    "BUFFER_TIME = 5\n",
    "def extract_source(url):\n",
    "    agent = {\"User-Agent\":\"Mozilla/5.0\"}\n",
    "    source=requests.get(url, headers=agent).text\n",
    "    return source"
   ]
  },
  {
   "cell_type": "code",
   "execution_count": null,
   "metadata": {},
   "outputs": [],
   "source": [
    "def getData(source):\n",
    "    soup=bs4.BeautifulSoup(source, 'lxml')\n",
    "    stocks = soup.findAll('tr')\n",
    "    ids = []\n",
    "    names = []\n",
    "    prices = []\n",
    "    changes = []\n",
    "    deltas = []\n",
    "    for stock in stocks:\n",
    "        td = stock.findAll('td')\n",
    "        i = 0\n",
    "        vals = []\n",
    "        for d in td:\n",
    "            txt = d.get_text()\n",
    "            if txt == \" \" or txt == \"\" or txt == '' or txt == 'N/A':\n",
    "                continue\n",
    "            else:\n",
    "                vals.append(txt)\n",
    "        if vals == []:\n",
    "            del vals\n",
    "            continue\n",
    "        else:\n",
    "            ids.append(vals[0])\n",
    "            names.append(vals[1])\n",
    "            prices.append(vals[2])\n",
    "            changes.append(vals[3])\n",
    "            deltas.append(vals[4])\n",
    "    dct_df = {\"Identifier\":ids,\n",
    "              \"Name\":names,\n",
    "              \"Price\":prices,\n",
    "              \"Change\":changes,\n",
    "              \"Percent Change\":deltas}\n",
    "    df = pd.DataFrame(dct_df, columns = [\"Identifier\",\n",
    "                                         \"Name\",\n",
    "                                         \"Price\",\n",
    "                                         \"Change\",\n",
    "                                         \"Percent Change\"])\n",
    "    return df"
   ]
  },
  {
   "cell_type": "code",
   "execution_count": null,
   "metadata": {},
   "outputs": [],
   "source": [
    "global STOCK_TREND_DICT\n",
    "STOCK_TREND_DICT = {}\n",
    "def exists(name):\n",
    "    if name in STOCK_TREND_DICT:\n",
    "        return True\n",
    "    else:\n",
    "        return False\n",
    "def row_parser(row):\n",
    "    company = row['Identifier']\n",
    "    price = row['Price']\n",
    "    if not exists(company):\n",
    "        STOCK_TREND_DICT[company] = []\n",
    "    STOCK_TREND_DICT[company].append(price)"
   ]
  },
  {
   "cell_type": "code",
   "execution_count": null,
   "metadata": {},
   "outputs": [],
   "source": [
    "dfs = []\n",
    "URL_stem = 'https://finance.yahoo.com/most-active?count=100&offset='\n",
    "money_amount = 1000\n",
    "purchased_stocks = []\n",
    "purchase_prices = {}\n",
    "while 1:\n",
    "    # retrive current moment's data\n",
    "    offset = 0\n",
    "    count = 0\n",
    "    og_df = getData(extract_source(URL_stem + str(offset)))\n",
    "    while count <1:\n",
    "        offset+=100\n",
    "        count+=1\n",
    "        #create dataframe and add it to log of dataframes\n",
    "        og_df = pd.concat([og_df,\n",
    "                           getData(extract_source\\\n",
    "                                   (URL_stem + str(offset)))])\n",
    "    dfs.append(og_df)\n",
    "    og_df.apply(row_parser,axis=1)\n",
    "    for ID in STOCK_TREND_DICT:\n",
    "        fig, ax = plt.subplots()\n",
    "        ax.plot(STOCK_TREND_DICT[ID])\n",
    "        ax.set_title(ID)\n",
    "        plt.show()\n",
    "    time.sleep(BUFFER_TIME)"
   ]
  },
  {
   "cell_type": "code",
   "execution_count": null,
   "metadata": {},
   "outputs": [],
   "source": []
  }
 ],
 "metadata": {
  "kernelspec": {
   "display_name": "Python 3",
   "language": "python",
   "name": "python3"
  },
  "language_info": {
   "codemirror_mode": {
    "name": "ipython",
    "version": 3
   },
   "file_extension": ".py",
   "mimetype": "text/x-python",
   "name": "python",
   "nbconvert_exporter": "python",
   "pygments_lexer": "ipython3",
   "version": "3.7.3"
  }
 },
 "nbformat": 4,
 "nbformat_minor": 2
}
